{
  "nbformat": 4,
  "nbformat_minor": 0,
  "metadata": {
    "colab": {
      "provenance": [],
      "authorship_tag": "ABX9TyNvlqjOgfcTn3XhiN79wseq",
      "include_colab_link": true
    },
    "kernelspec": {
      "name": "python3",
      "display_name": "Python 3"
    },
    "language_info": {
      "name": "python"
    }
  },
  "cells": [
    {
      "cell_type": "markdown",
      "metadata": {
        "id": "view-in-github",
        "colab_type": "text"
      },
      "source": [
        "<a href=\"https://colab.research.google.com/github/syedzaidi-kiwi/Vector-DB-Reckoners/blob/main/Qdrant_Search_Ready_Reckoner.ipynb\" target=\"_parent\"><img src=\"https://colab.research.google.com/assets/colab-badge.svg\" alt=\"Open In Colab\"/></a>"
      ]
    },
    {
      "cell_type": "code",
      "execution_count": 13,
      "metadata": {
        "id": "4FFcUU2hGd1h",
        "colab": {
          "base_uri": "https://localhost:8080/"
        },
        "outputId": "9420a820-56fd-4372-f652-7dd1accd52a2"
      },
      "outputs": [
        {
          "output_type": "stream",
          "name": "stdout",
          "text": [
            "Requirement already satisfied: qdrant-client in /usr/local/lib/python3.10/dist-packages (1.7.3)\n",
            "Requirement already satisfied: grpcio>=1.41.0 in /usr/local/lib/python3.10/dist-packages (from qdrant-client) (1.62.0)\n",
            "Requirement already satisfied: grpcio-tools>=1.41.0 in /usr/local/lib/python3.10/dist-packages (from qdrant-client) (1.62.0)\n",
            "Requirement already satisfied: httpx[http2]>=0.14.0 in /usr/local/lib/python3.10/dist-packages (from qdrant-client) (0.27.0)\n",
            "Requirement already satisfied: numpy>=1.21 in /usr/local/lib/python3.10/dist-packages (from qdrant-client) (1.26.4)\n",
            "Requirement already satisfied: portalocker<3.0.0,>=2.7.0 in /usr/local/lib/python3.10/dist-packages (from qdrant-client) (2.8.2)\n",
            "Requirement already satisfied: pydantic>=1.10.8 in /usr/local/lib/python3.10/dist-packages (from qdrant-client) (2.6.1)\n",
            "Requirement already satisfied: urllib3<3,>=1.26.14 in /usr/local/lib/python3.10/dist-packages (from qdrant-client) (2.0.7)\n",
            "Requirement already satisfied: protobuf<5.0dev,>=4.21.6 in /usr/local/lib/python3.10/dist-packages (from grpcio-tools>=1.41.0->qdrant-client) (4.25.3)\n",
            "Requirement already satisfied: setuptools in /usr/local/lib/python3.10/dist-packages (from grpcio-tools>=1.41.0->qdrant-client) (67.7.2)\n",
            "Requirement already satisfied: anyio in /usr/local/lib/python3.10/dist-packages (from httpx[http2]>=0.14.0->qdrant-client) (3.7.1)\n",
            "Requirement already satisfied: certifi in /usr/local/lib/python3.10/dist-packages (from httpx[http2]>=0.14.0->qdrant-client) (2024.2.2)\n",
            "Requirement already satisfied: httpcore==1.* in /usr/local/lib/python3.10/dist-packages (from httpx[http2]>=0.14.0->qdrant-client) (1.0.4)\n",
            "Requirement already satisfied: idna in /usr/local/lib/python3.10/dist-packages (from httpx[http2]>=0.14.0->qdrant-client) (3.6)\n",
            "Requirement already satisfied: sniffio in /usr/local/lib/python3.10/dist-packages (from httpx[http2]>=0.14.0->qdrant-client) (1.3.0)\n",
            "Requirement already satisfied: h2<5,>=3 in /usr/local/lib/python3.10/dist-packages (from httpx[http2]>=0.14.0->qdrant-client) (4.1.0)\n",
            "Requirement already satisfied: h11<0.15,>=0.13 in /usr/local/lib/python3.10/dist-packages (from httpcore==1.*->httpx[http2]>=0.14.0->qdrant-client) (0.14.0)\n",
            "Requirement already satisfied: annotated-types>=0.4.0 in /usr/local/lib/python3.10/dist-packages (from pydantic>=1.10.8->qdrant-client) (0.6.0)\n",
            "Requirement already satisfied: pydantic-core==2.16.2 in /usr/local/lib/python3.10/dist-packages (from pydantic>=1.10.8->qdrant-client) (2.16.2)\n",
            "Requirement already satisfied: typing-extensions>=4.6.1 in /usr/local/lib/python3.10/dist-packages (from pydantic>=1.10.8->qdrant-client) (4.9.0)\n",
            "Requirement already satisfied: hyperframe<7,>=6.0 in /usr/local/lib/python3.10/dist-packages (from h2<5,>=3->httpx[http2]>=0.14.0->qdrant-client) (6.0.1)\n",
            "Requirement already satisfied: hpack<5,>=4.0 in /usr/local/lib/python3.10/dist-packages (from h2<5,>=3->httpx[http2]>=0.14.0->qdrant-client) (4.0.0)\n",
            "Requirement already satisfied: exceptiongroup in /usr/local/lib/python3.10/dist-packages (from anyio->httpx[http2]>=0.14.0->qdrant-client) (1.2.0)\n"
          ]
        }
      ],
      "source": [
        "pip install qdrant-client"
      ]
    },
    {
      "cell_type": "code",
      "source": [
        "pip install -U sentence-transformers"
      ],
      "metadata": {
        "id": "PBVtVydOi9t1",
        "colab": {
          "base_uri": "https://localhost:8080/"
        },
        "outputId": "b631a083-92e1-4686-c5e0-0b386143c656"
      },
      "execution_count": 14,
      "outputs": [
        {
          "output_type": "stream",
          "name": "stdout",
          "text": [
            "Requirement already satisfied: sentence-transformers in /usr/local/lib/python3.10/dist-packages (2.4.0)\n",
            "Requirement already satisfied: transformers<5.0.0,>=4.32.0 in /usr/local/lib/python3.10/dist-packages (from sentence-transformers) (4.37.2)\n",
            "Requirement already satisfied: tqdm in /usr/local/lib/python3.10/dist-packages (from sentence-transformers) (4.66.2)\n",
            "Requirement already satisfied: torch>=1.11.0 in /usr/local/lib/python3.10/dist-packages (from sentence-transformers) (2.1.0+cu121)\n",
            "Requirement already satisfied: numpy in /usr/local/lib/python3.10/dist-packages (from sentence-transformers) (1.26.4)\n",
            "Requirement already satisfied: scikit-learn in /usr/local/lib/python3.10/dist-packages (from sentence-transformers) (1.2.2)\n",
            "Requirement already satisfied: scipy in /usr/local/lib/python3.10/dist-packages (from sentence-transformers) (1.11.4)\n",
            "Requirement already satisfied: huggingface-hub>=0.15.1 in /usr/local/lib/python3.10/dist-packages (from sentence-transformers) (0.20.3)\n",
            "Requirement already satisfied: Pillow in /usr/local/lib/python3.10/dist-packages (from sentence-transformers) (9.4.0)\n",
            "Requirement already satisfied: filelock in /usr/local/lib/python3.10/dist-packages (from huggingface-hub>=0.15.1->sentence-transformers) (3.13.1)\n",
            "Requirement already satisfied: fsspec>=2023.5.0 in /usr/local/lib/python3.10/dist-packages (from huggingface-hub>=0.15.1->sentence-transformers) (2023.6.0)\n",
            "Requirement already satisfied: requests in /usr/local/lib/python3.10/dist-packages (from huggingface-hub>=0.15.1->sentence-transformers) (2.31.0)\n",
            "Requirement already satisfied: pyyaml>=5.1 in /usr/local/lib/python3.10/dist-packages (from huggingface-hub>=0.15.1->sentence-transformers) (6.0.1)\n",
            "Requirement already satisfied: typing-extensions>=3.7.4.3 in /usr/local/lib/python3.10/dist-packages (from huggingface-hub>=0.15.1->sentence-transformers) (4.9.0)\n",
            "Requirement already satisfied: packaging>=20.9 in /usr/local/lib/python3.10/dist-packages (from huggingface-hub>=0.15.1->sentence-transformers) (23.2)\n",
            "Requirement already satisfied: sympy in /usr/local/lib/python3.10/dist-packages (from torch>=1.11.0->sentence-transformers) (1.12)\n",
            "Requirement already satisfied: networkx in /usr/local/lib/python3.10/dist-packages (from torch>=1.11.0->sentence-transformers) (3.2.1)\n",
            "Requirement already satisfied: jinja2 in /usr/local/lib/python3.10/dist-packages (from torch>=1.11.0->sentence-transformers) (3.1.3)\n",
            "Requirement already satisfied: triton==2.1.0 in /usr/local/lib/python3.10/dist-packages (from torch>=1.11.0->sentence-transformers) (2.1.0)\n",
            "Requirement already satisfied: regex!=2019.12.17 in /usr/local/lib/python3.10/dist-packages (from transformers<5.0.0,>=4.32.0->sentence-transformers) (2023.12.25)\n",
            "Requirement already satisfied: tokenizers<0.19,>=0.14 in /usr/local/lib/python3.10/dist-packages (from transformers<5.0.0,>=4.32.0->sentence-transformers) (0.15.2)\n",
            "Requirement already satisfied: safetensors>=0.4.1 in /usr/local/lib/python3.10/dist-packages (from transformers<5.0.0,>=4.32.0->sentence-transformers) (0.4.2)\n",
            "Requirement already satisfied: joblib>=1.1.1 in /usr/local/lib/python3.10/dist-packages (from scikit-learn->sentence-transformers) (1.3.2)\n",
            "Requirement already satisfied: threadpoolctl>=2.0.0 in /usr/local/lib/python3.10/dist-packages (from scikit-learn->sentence-transformers) (3.3.0)\n",
            "Requirement already satisfied: MarkupSafe>=2.0 in /usr/local/lib/python3.10/dist-packages (from jinja2->torch>=1.11.0->sentence-transformers) (2.1.5)\n",
            "Requirement already satisfied: charset-normalizer<4,>=2 in /usr/local/lib/python3.10/dist-packages (from requests->huggingface-hub>=0.15.1->sentence-transformers) (3.3.2)\n",
            "Requirement already satisfied: idna<4,>=2.5 in /usr/local/lib/python3.10/dist-packages (from requests->huggingface-hub>=0.15.1->sentence-transformers) (3.6)\n",
            "Requirement already satisfied: urllib3<3,>=1.21.1 in /usr/local/lib/python3.10/dist-packages (from requests->huggingface-hub>=0.15.1->sentence-transformers) (2.0.7)\n",
            "Requirement already satisfied: certifi>=2017.4.17 in /usr/local/lib/python3.10/dist-packages (from requests->huggingface-hub>=0.15.1->sentence-transformers) (2024.2.2)\n",
            "Requirement already satisfied: mpmath>=0.19 in /usr/local/lib/python3.10/dist-packages (from sympy->torch>=1.11.0->sentence-transformers) (1.3.0)\n"
          ]
        }
      ]
    },
    {
      "cell_type": "code",
      "source": [
        "from sentence_transformers import SentenceTransformer\n",
        "\n",
        "model = SentenceTransformer(\"all-MiniLM-L6-v2\")"
      ],
      "metadata": {
        "id": "UiJ2w_INlyKG"
      },
      "execution_count": 15,
      "outputs": []
    },
    {
      "cell_type": "code",
      "source": [
        "documents = [\n",
        "    {\n",
        "        \"name\": \"The Time Machine\",\n",
        "        \"description\": \"A man travels through time and witnesses the evolution of humanity.\",\n",
        "        \"author\": \"H.G. Wells\",\n",
        "        \"year\": 1895,\n",
        "    },\n",
        "    {\n",
        "        \"name\": \"Ender's Game\",\n",
        "        \"description\": \"A young boy is trained to become a military leader in a war against an alien race.\",\n",
        "        \"author\": \"Orson Scott Card\",\n",
        "        \"year\": 1985,\n",
        "    },\n",
        "    {\n",
        "        \"name\": \"Brave New World\",\n",
        "        \"description\": \"A dystopian society where people are genetically engineered and conditioned to conform to a strict social hierarchy.\",\n",
        "        \"author\": \"Aldous Huxley\",\n",
        "        \"year\": 1932,\n",
        "    },\n",
        "    {\n",
        "        \"name\": \"The Hitchhiker's Guide to the Galaxy\",\n",
        "        \"description\": \"A comedic science fiction series following the misadventures of an unwitting human and his alien friend.\",\n",
        "        \"author\": \"Douglas Adams\",\n",
        "        \"year\": 1979,\n",
        "    },\n",
        "    {\n",
        "        \"name\": \"Dune\",\n",
        "        \"description\": \"A desert planet is the site of political intrigue and power struggles.\",\n",
        "        \"author\": \"Frank Herbert\",\n",
        "        \"year\": 1965,\n",
        "    },\n",
        "    {\n",
        "        \"name\": \"Foundation\",\n",
        "        \"description\": \"A mathematician develops a science to predict the future of humanity and works to save civilization from collapse.\",\n",
        "        \"author\": \"Isaac Asimov\",\n",
        "        \"year\": 1951,\n",
        "    },\n",
        "    {\n",
        "        \"name\": \"Snow Crash\",\n",
        "        \"description\": \"A futuristic world where the internet has evolved into a virtual reality metaverse.\",\n",
        "        \"author\": \"Neal Stephenson\",\n",
        "        \"year\": 1992,\n",
        "    },\n",
        "    {\n",
        "        \"name\": \"Neuromancer\",\n",
        "        \"description\": \"A hacker is hired to pull off a near-impossible hack and gets pulled into a web of intrigue.\",\n",
        "        \"author\": \"William Gibson\",\n",
        "        \"year\": 1984,\n",
        "    },\n",
        "    {\n",
        "        \"name\": \"The War of the Worlds\",\n",
        "        \"description\": \"A Martian invasion of Earth throws humanity into chaos.\",\n",
        "        \"author\": \"H.G. Wells\",\n",
        "        \"year\": 1898,\n",
        "    },\n",
        "    {\n",
        "        \"name\": \"The Hunger Games\",\n",
        "        \"description\": \"A dystopian society where teenagers are forced to fight to the death in a televised spectacle.\",\n",
        "        \"author\": \"Suzanne Collins\",\n",
        "        \"year\": 2008,\n",
        "    },\n",
        "    {\n",
        "        \"name\": \"The Andromeda Strain\",\n",
        "        \"description\": \"A deadly virus from outer space threatens to wipe out humanity.\",\n",
        "        \"author\": \"Michael Crichton\",\n",
        "        \"year\": 1969,\n",
        "    },\n",
        "    {\n",
        "        \"name\": \"The Left Hand of Darkness\",\n",
        "        \"description\": \"A human ambassador is sent to a planet where the inhabitants are genderless and can change gender at will.\",\n",
        "        \"author\": \"Ursula K. Le Guin\",\n",
        "        \"year\": 1969,\n",
        "    },\n",
        "    {\n",
        "        \"name\": \"The Three-Body Problem\",\n",
        "        \"description\": \"Humans encounter an alien civilization that lives in a dying system.\",\n",
        "        \"author\": \"Liu Cixin\",\n",
        "        \"year\": 2008,\n",
        "    },\n",
        "]"
      ],
      "metadata": {
        "id": "vC1MPjnsq6cE"
      },
      "execution_count": 16,
      "outputs": []
    },
    {
      "cell_type": "code",
      "source": [
        "from qdrant_client import models, QdrantClient\n",
        "\n",
        "# Defining Storage Location\n",
        "\n",
        "qdrant = QdrantClient(\":memory:\")"
      ],
      "metadata": {
        "id": "NRCd6_LNrBg2"
      },
      "execution_count": 17,
      "outputs": []
    },
    {
      "cell_type": "code",
      "source": [
        "# Defining the Encoder also\n",
        "\n",
        "encoder = SentenceTransformer('all-MiniLM-L6-v2')"
      ],
      "metadata": {
        "id": "-0m15nhsr19j"
      },
      "execution_count": 18,
      "outputs": []
    },
    {
      "cell_type": "code",
      "source": [
        "# Creating the collections\n",
        "\n",
        "qdrant.recreate_collection(\n",
        "    collection_name=\"my_books\",\n",
        "    vectors_config=models.VectorParams(\n",
        "        size=encoder.get_sentence_embedding_dimension(),  # Vector size is defined by used model\n",
        "        distance=models.Distance.COSINE,\n",
        "    ),\n",
        ")"
      ],
      "metadata": {
        "colab": {
          "base_uri": "https://localhost:8080/"
        },
        "id": "hxy67p64rXx3",
        "outputId": "3161767e-8f67-4f1e-f4d5-4b4ef83cf8be"
      },
      "execution_count": 19,
      "outputs": [
        {
          "output_type": "execute_result",
          "data": {
            "text/plain": [
              "True"
            ]
          },
          "metadata": {},
          "execution_count": 19
        }
      ]
    },
    {
      "cell_type": "code",
      "source": [
        "# Pushing the Vector Embeddings into the Database\n",
        "\n",
        "qdrant.upload_points(\n",
        "    collection_name=\"my_books\",\n",
        "    points=[\n",
        "        models.PointStruct(\n",
        "            id=idx, vector=encoder.encode(doc[\"description\"]).tolist(), payload=doc\n",
        "        )\n",
        "        for idx, doc in enumerate(documents)\n",
        "    ],\n",
        ")"
      ],
      "metadata": {
        "id": "Tg0kCFlbr-Pu"
      },
      "execution_count": 20,
      "outputs": []
    },
    {
      "cell_type": "code",
      "source": [
        "# Querying the Engine\n",
        "\n",
        "hits = qdrant.search(\n",
        "    collection_name=\"my_books\",\n",
        "    query_vector=encoder.encode(\"alien invasion\").tolist(),\n",
        "    limit=3,\n",
        ")\n",
        "for hit in hits:\n",
        "    print(hit.payload, \"score:\", hit.score)"
      ],
      "metadata": {
        "colab": {
          "base_uri": "https://localhost:8080/"
        },
        "id": "vau8u7EsshzT",
        "outputId": "5e4f77ab-c336-41e4-9277-222cf9d2af70"
      },
      "execution_count": 21,
      "outputs": [
        {
          "output_type": "stream",
          "name": "stdout",
          "text": [
            "{'name': 'The War of the Worlds', 'description': 'A Martian invasion of Earth throws humanity into chaos.', 'author': 'H.G. Wells', 'year': 1898} score: 0.5700932977044392\n",
            "{'name': \"The Hitchhiker's Guide to the Galaxy\", 'description': 'A comedic science fiction series following the misadventures of an unwitting human and his alien friend.', 'author': 'Douglas Adams', 'year': 1979} score: 0.5040467131130881\n",
            "{'name': 'The Three-Body Problem', 'description': 'Humans encounter an alien civilization that lives in a dying system.', 'author': 'Liu Cixin', 'year': 2008} score: 0.4590292765269722\n"
          ]
        }
      ]
    },
    {
      "cell_type": "code",
      "source": [
        "# Further Narrowing down the search with the Engine\n",
        "\n",
        "hits = qdrant.search(\n",
        "    collection_name=\"my_books\",\n",
        "    query_vector=encoder.encode(\"alien invasion\").tolist(),\n",
        "    query_filter=models.Filter(\n",
        "        must=[models.FieldCondition(key=\"year\", range=models.Range(gte=2000))]\n",
        "    ),\n",
        "    limit=1,\n",
        ")\n",
        "for hit in hits:\n",
        "    print(hit.payload, \"score:\", hit.score)"
      ],
      "metadata": {
        "colab": {
          "base_uri": "https://localhost:8080/"
        },
        "id": "yIjD1d4Wttih",
        "outputId": "4f38a252-0e1e-40e4-d30a-ba3d65f5cf90"
      },
      "execution_count": 22,
      "outputs": [
        {
          "output_type": "stream",
          "name": "stdout",
          "text": [
            "{'name': 'The Three-Body Problem', 'description': 'Humans encounter an alien civilization that lives in a dying system.', 'author': 'Liu Cixin', 'year': 2008} score: 0.4590292765269722\n"
          ]
        }
      ]
    }
  ]
}